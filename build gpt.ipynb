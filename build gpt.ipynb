{
 "cells": [
  {
   "cell_type": "code",
   "execution_count": 1,
   "id": "3f8daff1",
   "metadata": {},
   "outputs": [],
   "source": [
    "import numpy as np\n",
    "import torch\n",
    "import torch.nn as nn\n",
    "from torch.functional import F\n",
    "\n",
    "import os"
   ]
  },
  {
   "cell_type": "code",
   "execution_count": 2,
   "id": "8e54b05a",
   "metadata": {},
   "outputs": [],
   "source": [
    "with open(\"input.txt\", \"r\") as file:\n",
    "    text_corpus =   file.read()\n",
    "    \n"
   ]
  },
  {
   "cell_type": "code",
   "execution_count": 3,
   "id": "7bc0a941",
   "metadata": {},
   "outputs": [
    {
     "name": "stdout",
     "output_type": "stream",
     "text": [
      "First Citizen:\n",
      "Before we proceed any further, hear me speak.\n",
      "\n",
      "All:\n",
      "Speak, speak.\n",
      "\n",
      "First Citizen:\n",
      "You are all resolved rather to die than to famish?\n",
      "\n",
      "All:\n",
      "Resolved. resolved.\n",
      "\n",
      "First Citizen:\n",
      "First, you know Caius Marcius is chief enemy to the people.\n",
      "\n",
      "All:\n",
      "We know't, we know't.\n",
      "\n",
      "First Citizen:\n",
      "Let us kill him, and we'll have corn at our own price.\n",
      "Is't a verdict?\n",
      "\n",
      "All:\n",
      "No more talking on't; let it be done: away, away!\n",
      "\n",
      "Second Citizen:\n",
      "One word, good citizens.\n",
      "\n",
      "First Citizen:\n",
      "We are accounted poor\n"
     ]
    }
   ],
   "source": [
    "print(text_corpus[:500])"
   ]
  },
  {
   "cell_type": "code",
   "execution_count": 4,
   "id": "7cb7adb9",
   "metadata": {},
   "outputs": [],
   "source": [
    "\n",
    "unique_chars = sorted(set(text_corpus))\n",
    "\n",
    "\n",
    "char_to_token = {unique_chars[i]:i for i in range(len(unique_chars))}\n",
    "\n",
    "token_to_char =  {i:unique_chars[i] for i in range(len(unique_chars))}\n"
   ]
  },
  {
   "cell_type": "code",
   "execution_count": 5,
   "id": "42845fda",
   "metadata": {},
   "outputs": [
    {
     "data": {
      "text/plain": [
       "{'\\n': 0,\n",
       " ' ': 1,\n",
       " '!': 2,\n",
       " '$': 3,\n",
       " '&': 4,\n",
       " \"'\": 5,\n",
       " ',': 6,\n",
       " '-': 7,\n",
       " '.': 8,\n",
       " '3': 9,\n",
       " ':': 10,\n",
       " ';': 11,\n",
       " '?': 12,\n",
       " 'A': 13,\n",
       " 'B': 14,\n",
       " 'C': 15,\n",
       " 'D': 16,\n",
       " 'E': 17,\n",
       " 'F': 18,\n",
       " 'G': 19,\n",
       " 'H': 20,\n",
       " 'I': 21,\n",
       " 'J': 22,\n",
       " 'K': 23,\n",
       " 'L': 24,\n",
       " 'M': 25,\n",
       " 'N': 26,\n",
       " 'O': 27,\n",
       " 'P': 28,\n",
       " 'Q': 29,\n",
       " 'R': 30,\n",
       " 'S': 31,\n",
       " 'T': 32,\n",
       " 'U': 33,\n",
       " 'V': 34,\n",
       " 'W': 35,\n",
       " 'X': 36,\n",
       " 'Y': 37,\n",
       " 'Z': 38,\n",
       " 'a': 39,\n",
       " 'b': 40,\n",
       " 'c': 41,\n",
       " 'd': 42,\n",
       " 'e': 43,\n",
       " 'f': 44,\n",
       " 'g': 45,\n",
       " 'h': 46,\n",
       " 'i': 47,\n",
       " 'j': 48,\n",
       " 'k': 49,\n",
       " 'l': 50,\n",
       " 'm': 51,\n",
       " 'n': 52,\n",
       " 'o': 53,\n",
       " 'p': 54,\n",
       " 'q': 55,\n",
       " 'r': 56,\n",
       " 's': 57,\n",
       " 't': 58,\n",
       " 'u': 59,\n",
       " 'v': 60,\n",
       " 'w': 61,\n",
       " 'x': 62,\n",
       " 'y': 63,\n",
       " 'z': 64}"
      ]
     },
     "execution_count": 5,
     "metadata": {},
     "output_type": "execute_result"
    }
   ],
   "source": [
    "char_to_token"
   ]
  },
  {
   "cell_type": "markdown",
   "id": "cf667799",
   "metadata": {},
   "source": [
    "### Tokenize text\n"
   ]
  },
  {
   "cell_type": "code",
   "execution_count": 13,
   "id": "6aeb7f88",
   "metadata": {},
   "outputs": [],
   "source": [
    "tokenized_text_corpus = [char_to_token[c] for c in text_corpus]"
   ]
  },
  {
   "cell_type": "code",
   "execution_count": 14,
   "id": "6bba340f",
   "metadata": {},
   "outputs": [
    {
     "data": {
      "text/plain": [
       "1115394"
      ]
     },
     "execution_count": 14,
     "metadata": {},
     "output_type": "execute_result"
    }
   ],
   "source": [
    "len(tokenized_text_corpus)"
   ]
  },
  {
   "cell_type": "code",
   "execution_count": 15,
   "id": "5fc8eee3",
   "metadata": {},
   "outputs": [],
   "source": [
    "# BLOCK_SIZE=128 #Context len\n",
    "# BATCH_SIZE=16\n",
    "\n"
   ]
  },
  {
   "cell_type": "code",
   "execution_count": 16,
   "id": "1baedd44",
   "metadata": {},
   "outputs": [],
   "source": [
    "def get_batch():\n",
    "    starting_indeces = np.random.randint(0, len(tokenized_text_corpus) - BLOCK_SIZE - 1, BATCH_SIZE)\n",
    "\n",
    "    X_batch = [torch.tensor(tokenized_text_corpus[i : i + BLOCK_SIZE], ) for i in starting_indeces]\n",
    "    y_batch = [torch.tensor(tokenized_text_corpus[i + 1: i + BLOCK_SIZE + 1],) for i in starting_indeces]\n",
    "    \n",
    "    X_batch, y_batch = torch.stack(X_batch), torch.stack(y_batch)   \n",
    "    return (X_batch, y_batch)\n",
    "\n",
    "#x, y = get_batch()\n"
   ]
  },
  {
   "cell_type": "code",
   "execution_count": null,
   "id": "dd5bdcc8",
   "metadata": {},
   "outputs": [],
   "source": []
  },
  {
   "cell_type": "markdown",
   "id": "356325b4",
   "metadata": {},
   "source": [
    "### Self-Attention "
   ]
  },
  {
   "cell_type": "code",
   "execution_count": 93,
   "id": "96e85c9e",
   "metadata": {},
   "outputs": [],
   "source": [
    "B, T, C = 4, 8, 6#Batch, Time, COntext\n",
    "\n",
    "xbow = torch.randn((B, T, C))\n",
    "\n",
    "average_context_mask = torch.tril(torch.ones((T, T))) \n",
    "average_context_mask = average_context_mask / torch.sum(average_context_mask, axis=1, keepdim=True)"
   ]
  },
  {
   "cell_type": "code",
   "execution_count": 94,
   "id": "dc009c0a",
   "metadata": {},
   "outputs": [
    {
     "data": {
      "text/plain": [
       "tensor([[1.0000, 0.0000, 0.0000, 0.0000, 0.0000, 0.0000, 0.0000, 0.0000],\n",
       "        [0.5000, 0.5000, 0.0000, 0.0000, 0.0000, 0.0000, 0.0000, 0.0000],\n",
       "        [0.3333, 0.3333, 0.3333, 0.0000, 0.0000, 0.0000, 0.0000, 0.0000],\n",
       "        [0.2500, 0.2500, 0.2500, 0.2500, 0.0000, 0.0000, 0.0000, 0.0000],\n",
       "        [0.2000, 0.2000, 0.2000, 0.2000, 0.2000, 0.0000, 0.0000, 0.0000],\n",
       "        [0.1667, 0.1667, 0.1667, 0.1667, 0.1667, 0.1667, 0.0000, 0.0000],\n",
       "        [0.1429, 0.1429, 0.1429, 0.1429, 0.1429, 0.1429, 0.1429, 0.0000],\n",
       "        [0.1250, 0.1250, 0.1250, 0.1250, 0.1250, 0.1250, 0.1250, 0.1250]])"
      ]
     },
     "execution_count": 94,
     "metadata": {},
     "output_type": "execute_result"
    }
   ],
   "source": [
    "##version2\n",
    "\n",
    "average_context_mask"
   ]
  },
  {
   "cell_type": "code",
   "execution_count": 95,
   "id": "5957b56c",
   "metadata": {},
   "outputs": [
    {
     "name": "stdout",
     "output_type": "stream",
     "text": [
      "torch.Size([8, 8])  @  torch.Size([4, 8, 6])\n"
     ]
    },
    {
     "data": {
      "text/plain": [
       "tensor([[[ 2.6059e-01,  1.7421e+00, -6.0612e-01, -9.6870e-01,  7.0926e-01,\n",
       "          -2.5871e-02],\n",
       "         [-5.7439e-01,  1.3707e+00,  2.4504e-01, -3.1590e-01, -1.4025e-01,\n",
       "           4.4155e-01],\n",
       "         [-1.3688e-01,  7.0780e-01,  6.3422e-01,  3.9436e-01, -1.2794e-01,\n",
       "           2.3398e-01],\n",
       "         [-1.5556e-01,  6.7288e-01,  6.9752e-01,  3.8903e-01, -4.7709e-01,\n",
       "           2.7200e-02],\n",
       "         [-1.3120e-01,  6.4888e-01, -1.0739e-01,  3.9961e-02, -6.3086e-01,\n",
       "          -1.9785e-01],\n",
       "         [-2.4418e-01,  6.4407e-01, -2.7484e-01, -1.1960e-01, -4.7174e-01,\n",
       "          -3.3197e-01],\n",
       "         [-3.7982e-02,  2.9874e-01, -1.2206e-01, -1.7865e-01, -3.8803e-01,\n",
       "          -3.8281e-01],\n",
       "         [ 4.9382e-02, -9.9869e-02, -3.9206e-01, -1.6009e-01, -4.7328e-01,\n",
       "           7.2666e-02]],\n",
       "\n",
       "        [[ 5.1830e-02,  1.7329e+00, -5.0020e-03, -4.7684e-01,  1.5562e+00,\n",
       "           1.4066e+00],\n",
       "         [-6.8112e-02,  1.7609e+00, -6.7252e-01,  3.2239e-01,  3.3581e-01,\n",
       "           2.5147e-01],\n",
       "         [-7.4322e-01,  9.9999e-01, -5.7517e-01,  3.9489e-01, -6.1408e-02,\n",
       "           2.7070e-01],\n",
       "         [-5.0511e-01,  5.5369e-01, -3.2364e-01, -6.6661e-02, -7.7910e-02,\n",
       "           3.3925e-01],\n",
       "         [-1.5823e-01,  4.2286e-01, -4.4996e-01,  1.2360e-01,  8.4526e-02,\n",
       "           4.3701e-01],\n",
       "         [-8.1249e-02,  2.8685e-01, -3.7976e-01, -1.8043e-01,  9.9068e-02,\n",
       "           2.3855e-01],\n",
       "         [ 1.2220e-01,  2.0532e-01, -3.4652e-01, -1.8385e-01,  2.6726e-02,\n",
       "           8.3898e-02],\n",
       "         [ 6.5285e-02,  1.0462e-01, -4.3716e-01, -2.7546e-01,  1.9750e-01,\n",
       "          -2.6363e-01]],\n",
       "\n",
       "        [[ 8.6149e-01,  7.9171e-01,  7.2873e-01, -9.5009e-01,  9.6187e-01,\n",
       "          -4.1715e-01],\n",
       "         [ 1.5678e+00,  3.8554e-01,  1.0704e+00, -1.3097e-01,  6.8510e-01,\n",
       "          -1.6521e-01],\n",
       "         [ 8.2705e-01,  1.5117e-02,  1.2164e+00, -2.9905e-01,  7.1887e-01,\n",
       "          -1.5659e-01],\n",
       "         [ 2.3962e-01, -7.9808e-02,  5.8487e-01, -2.0506e-01,  5.7506e-01,\n",
       "           1.2006e-01],\n",
       "         [ 1.4082e-01, -2.3745e-02,  5.6041e-01,  1.8467e-01,  4.4622e-01,\n",
       "           7.5438e-02],\n",
       "         [ 9.1137e-02, -2.0450e-01,  5.5013e-01,  2.9401e-01,  2.3838e-01,\n",
       "           3.3887e-03],\n",
       "         [ 2.3859e-02, -4.1932e-02,  4.0117e-01,  3.3330e-01,  3.2975e-01,\n",
       "           1.1652e-02],\n",
       "         [-3.8176e-02, -3.5995e-04,  3.3195e-01,  2.0669e-01,  2.1587e-01,\n",
       "          -7.8159e-02]],\n",
       "\n",
       "        [[-1.3630e+00, -1.8340e-01, -1.0159e+00,  9.5731e-01, -1.5184e+00,\n",
       "          -8.4274e-01],\n",
       "         [-1.1685e+00,  7.3241e-02, -8.0723e-01,  1.1240e+00, -8.7183e-01,\n",
       "           3.6029e-01],\n",
       "         [ 3.5233e-02,  2.9959e-01, -5.6914e-01,  6.8443e-01, -2.9088e-01,\n",
       "          -2.8473e-01],\n",
       "         [-1.3088e-01,  3.2561e-01, -3.2286e-01,  7.5985e-01, -4.2555e-01,\n",
       "          -6.3133e-02],\n",
       "         [ 3.0302e-01,  2.8714e-01, -1.7946e-01,  4.1565e-01, -3.8540e-01,\n",
       "          -9.6660e-02],\n",
       "         [ 1.7732e-03,  3.4401e-01, -3.8515e-02, -6.7437e-04, -2.7904e-01,\n",
       "          -1.7256e-01],\n",
       "         [-3.3623e-02,  2.7727e-01, -5.5667e-02,  1.2708e-01, -2.6900e-01,\n",
       "           9.0249e-03],\n",
       "         [ 3.4180e-02,  4.2876e-01,  1.7825e-03,  1.2349e-01, -2.2899e-01,\n",
       "           1.5831e-01]]])"
      ]
     },
     "execution_count": 95,
     "metadata": {},
     "output_type": "execute_result"
    }
   ],
   "source": [
    "print(average_context_mask.shape,  \" @ \", xbow.shape)\n",
    "\n",
    "average_context_mask @ xbow # (T, T) @ (B, T, C) is casted as (B, T, T) @ (B, T, C) --> (B, T, C)\n"
   ]
  },
  {
   "cell_type": "code",
   "execution_count": 25,
   "id": "6e49d085",
   "metadata": {},
   "outputs": [],
   "source": [
    "##version 3\n",
    "\n",
    "average_context_mask = torch.zeros((T, T))\n",
    "average_context_mask = average_context_mask.masked_fill(torch.tril(torch.ones(T, T)) == 0, float(\"-inf\"))\n",
    "average_context_mask = F.softmax(average_context_mask, dim=1)"
   ]
  },
  {
   "cell_type": "markdown",
   "id": "567a8f63",
   "metadata": {},
   "source": [
    "### One head of Self-Attention"
   ]
  },
  {
   "cell_type": "code",
   "execution_count": 150,
   "id": "b4c2b023",
   "metadata": {},
   "outputs": [
    {
     "name": "stdout",
     "output_type": "stream",
     "text": [
      "torch.Size([4, 8, 16])\n"
     ]
    }
   ],
   "source": [
    "###KEY PART of self-attention\n",
    "\n",
    "B, T, C = 4, 8, 32 #Batch, Time, Channels (size of Embedding vec)\n",
    "x = torch.randn(B,T,C)\n",
    "\n",
    "#SINGLE HEAD self-attention\n",
    "HEAD_SIZE=16\n",
    "\n",
    "key = nn.Linear(C, HEAD_SIZE, bias=False)\n",
    "query = nn.Linear(C, HEAD_SIZE, bias=False)\n",
    "value = nn.Linear(C, HEAD_SIZE, bias=False)\n",
    "\n",
    "#way of thinking\n",
    "#X - is private info about each token\n",
    "\n",
    "# Key - I am token N and here's what I have \n",
    "# Query - I am token N and here's what I look for\n",
    "# Value - I am token N and  here's what I will communicate to you if you find me interesting\n",
    "\n",
    "k = key(x) # (B, T, H)\n",
    "q = query(x)\n",
    "\n",
    "\n",
    "#compute scores for each token wrt to other tokens\n",
    "#by dot product of query with keys of other tokens\n",
    "wei = q @ k.transpose(-2, -1) #(B, T, T)\n",
    "\n",
    "#masking out future\n",
    "\n",
    "tril = torch.tril(torch.ones(T, T))\n",
    "wei = wei.masked_fill(tril == 0, float(\"-inf\")) #forbide to talk to future-tokens (DECODER)\n",
    "wei = F.softmax(wei, dim=-1)\n",
    "\n",
    "\n",
    "v = value(x)\n",
    "\n",
    "out = wei @ v  #each token gathers appropriate values of other tokens \n",
    "\n",
    "\n",
    "## Now, previous tokens have different weights (attention)\n",
    "print(out.shape) #(BATCH, TIME, Head-size)\n"
   ]
  },
  {
   "cell_type": "code",
   "execution_count": 151,
   "id": "bf059e0a",
   "metadata": {},
   "outputs": [
    {
     "data": {
      "text/plain": [
       "tensor([[1.0000, 0.0000, 0.0000, 0.0000, 0.0000, 0.0000, 0.0000, 0.0000],\n",
       "        [0.8700, 0.1300, 0.0000, 0.0000, 0.0000, 0.0000, 0.0000, 0.0000],\n",
       "        [0.2200, 0.7700, 0.0100, 0.0000, 0.0000, 0.0000, 0.0000, 0.0000],\n",
       "        [0.7900, 0.0500, 0.0400, 0.1200, 0.0000, 0.0000, 0.0000, 0.0000],\n",
       "        [0.0700, 0.4900, 0.0700, 0.0100, 0.3700, 0.0000, 0.0000, 0.0000],\n",
       "        [0.0800, 0.5800, 0.0500, 0.0300, 0.1200, 0.1500, 0.0000, 0.0000],\n",
       "        [0.0800, 0.3300, 0.0900, 0.1500, 0.2400, 0.0800, 0.0300, 0.0000],\n",
       "        [0.0100, 0.6500, 0.0100, 0.0000, 0.2600, 0.0200, 0.0200, 0.0300]],\n",
       "       grad_fn=<RoundBackward1>)"
      ]
     },
     "execution_count": 151,
     "metadata": {},
     "output_type": "execute_result"
    }
   ],
   "source": [
    "#weighted attention\n",
    "\n",
    "torch.round(wei[0], decimals=2)"
   ]
  },
  {
   "cell_type": "markdown",
   "id": "54ad74db",
   "metadata": {},
   "source": [
    "Notes:\n",
    "- Attention is a **communication mechanism**. Can be seen as nodes in a directed graph looking at each other and aggregating information with a weighted sum from all nodes that point to them, with data-dependent weights.\n",
    "- There is no notion of space. Attention simply acts over a set of vectors. This is why we need to positionally encode tokens.\n",
    "- Each example across batch dimension is of course processed completely independently and never \"talk\" to each other\n",
    "- In an \"encoder\" attention block just delete the single line that does masking with `tril`, allowing all tokens to communicate. This block here is called a \"decoder\" attention block because it has triangular masking, and is usually used in autoregressive settings, like language modeling.\n",
    "- \"self-attention\" just means that the keys and values are produced from the same source as queries. In \"cross-attention\", the queries still get produced from x, but the keys and values come from some other, external source (e.g. an encoder module)\n",
    "- \"Scaled\" attention additional divides `wei` by 1/sqrt(head_size). This makes it so when input Q,K are unit variance, wei will be unit variance too and Softmax will stay diffuse and not saturate too much. Illustration below"
   ]
  },
  {
   "attachments": {
    "image.png": {
     "image/png": "[encoded data removed]"
    }
   },
   "cell_type": "markdown",
   "id": "fa62066b",
   "metadata": {},
   "source": [
    "### MultiHead Attention\n",
    "\n",
    "multihead attention is basically applying many self-attentions in parralles and concatenating results\n",
    "\n",
    "![image.png](attachment:image.png)"
   ]
  },
  {
   "cell_type": "markdown",
   "id": "c97228e8",
   "metadata": {},
   "source": [
    "### TODO\n",
    "\n",
    "1) We need to add simple feedforward NN on top of MultiHeadAttention Block\n",
    "2) Add residual connections\n",
    "3) Add Layer Norm"
   ]
  },
  {
   "cell_type": "markdown",
   "id": "58d73c18",
   "metadata": {},
   "source": [
    "### Implementing MultiHead attention"
   ]
  },
  {
   "cell_type": "code",
   "execution_count": 19,
   "id": "dbc4c9a5",
   "metadata": {},
   "outputs": [],
   "source": [
    "#=========\n",
    "#constants\n",
    "N_EMBED=128\n",
    "BATCH_SIZE=32\n",
    "N_HEADS=8\n",
    "VOCAB_SIZE=len(unique_chars)\n",
    "BLOCK_SIZE=64 #Context length\n",
    "N_BLOCKS=4\n",
    "MAX_TOKENS=100\n",
    "LR=0.001\n",
    "EPOCHS=2000\n",
    "\n",
    "#=======\n",
    "\n",
    "class Head(nn.Module):\n",
    "    def __init__(self, head_size):\n",
    "        super().__init__()\n",
    "        \n",
    "        self.head_size = head_size\n",
    "        \n",
    "        self.key_layer = nn.Linear(N_EMBED, head_size, bias=False)\n",
    "        self.query_layer = nn.Linear(N_EMBED, head_size, bias=False)\n",
    "        self.value_layer = nn.Linear(N_EMBED, head_size, bias=False)\n",
    "        \n",
    "    def forward(self, x):\n",
    "        \n",
    "        B, T, C = x.shape\n",
    "        \n",
    "        key = self.key_layer(x)\n",
    "        query = self.query_layer(x)\n",
    "        value = self.value_layer(x)\n",
    "        \n",
    "        #compute attention scores for each token wrt to other tokens\n",
    "        attention_weights = (query @ key.transpose(-2, -1)) * C ** -0.5\n",
    "        \n",
    "        #mask out future\n",
    "        tril = torch.tril(torch.ones(T, T))\n",
    "        attention_weights = attention_weights.masked_fill(tril == 0, float(\"-inf\"))\n",
    "        #apply softmax to transform to prob distribution\n",
    "        attention_weights = F.softmax(attention_weights, dim=-1)\n",
    "        \n",
    "        #gather values of interesting tokens and aggregate them for each token\n",
    "        \n",
    "        out = attention_weights @ value\n",
    "        \n",
    "        return out\n",
    "        "
   ]
  },
  {
   "cell_type": "code",
   "execution_count": 20,
   "id": "958e213d",
   "metadata": {},
   "outputs": [],
   "source": [
    "\n",
    "class MultiHeadAttention(nn.Module):\n",
    "    def __init__(self, n_heads, head_size):\n",
    "        super().__init__()\n",
    "        \n",
    "        self.heads = nn.ModuleList([Head(head_size) for _ in range(n_heads)])\n",
    "        self.projection = nn.Linear(N_EMBED, N_EMBED)\n",
    "        \n",
    "        \n",
    "    def forward(self, x):\n",
    "        \n",
    "        head_outs = [head(x) for head in self.heads]\n",
    "        \n",
    "        #concatenate outputs of heads\n",
    "        head_outs_concated = torch.cat(head_outs, dim=-1)\n",
    "        \n",
    "        out = self.projection(head_outs_concated)\n",
    "        \n",
    "        \n",
    "        return out\n",
    "    \n",
    "    \n",
    "class TransformerBlock(nn.Module): \n",
    "    def __init__(self, n_emb, n_heads):\n",
    "        super().__init__()\n",
    "\n",
    "        \n",
    "        self.multihead_attention = MultiHeadAttention(n_heads, n_emb // n_heads)\n",
    "        \n",
    "        \n",
    "        self.feedforward_nn = nn.Sequential(\n",
    "            nn.Linear(n_emb, 4 * n_emb),\n",
    "            nn.ReLU(),\n",
    "            nn.Linear(4 * n_emb, n_emb),\n",
    "        )\n",
    "        \n",
    "        self.layer_norm1  = nn.LayerNorm(n_emb)\n",
    "        self.layer_norm2 = nn.LayerNorm(n_emb)\n",
    "        \n",
    "    def forward(self, x): #output shape is same as input\n",
    "        \n",
    "        x = self.multihead_attention(x) + x #add residual connections\n",
    "        x = self.feedforward_nn(x) + x \n",
    "        \n",
    "        return x\n",
    "    "
   ]
  },
  {
   "cell_type": "code",
   "execution_count": 21,
   "id": "5abcf301",
   "metadata": {},
   "outputs": [],
   "source": [
    "class BigramLanguageModel(nn.Module):\n",
    "    def __init__(self):\n",
    "        super().__init__()\n",
    "        \n",
    "        self.token_embedding_table = nn.Embedding(VOCAB_SIZE, N_EMBED)\n",
    "        self.position_embedding_table = nn.Embedding(VOCAB_SIZE, N_EMBED)\n",
    "        \n",
    "        #init transformer blocks\n",
    "        self.blocks = nn.Sequential(*[TransformerBlock(N_EMBED, N_HEADS) for _ in range(N_BLOCKS)])\n",
    "        self.layer_norm = nn.LayerNorm(N_EMBED)\n",
    "        \n",
    "        self.final_linear = nn.Linear(N_EMBED, VOCAB_SIZE) #logits\n",
    "        \n",
    "        \n",
    "    def forward(self, idx, targets=None):\n",
    "        #idx - tensor of indices of tokens\n",
    "        \n",
    "        \n",
    "        B, T = idx.shape\n",
    "        \n",
    "        tok_emb = self.token_embedding_table(idx) #(B, T, N_EMB)\n",
    "        pos_emb = self.position_embedding_table(torch.arange(T)) #(T, N_EMB)\n",
    "        \n",
    "        #sum token and position embedding\n",
    "        x = pos_emb + tok_emb\n",
    "        \n",
    "        x = self.blocks(x) #(B, T, N_EMB)\n",
    "        x = self.layer_norm(x) #(B, T, N_EMB)\n",
    "        logits = self.final_linear(x) #(B, T, VOCAB_SIZE) - produces logits\n",
    "        \n",
    "        if targets is None:\n",
    "            loss = None\n",
    "        else:\n",
    "            B, T, C = logits.shape\n",
    "            \n",
    "            logits = logits.view(B*T, C)\n",
    "            \n",
    "            targets = targets.view(B*T,)\n",
    "            \n",
    "            loss = F.cross_entropy(logits, targets)\n",
    "        \n",
    "        \n",
    "        \n",
    "        return logits, loss\n",
    "        \n",
    "\n",
    "    def generate(self, idx, max_tokens=100):\n",
    "        \n",
    "        # idx is (B, T) array of indices in the current context\n",
    "        \n",
    "        for _ in range(max_tokens):\n",
    "            \n",
    "            #crop last context\n",
    "            idx_cond = idx[:, -BLOCK_SIZE:]\n",
    "            \n",
    "            #get predicitons\n",
    "            logits, loss = self(idx_cond)\n",
    "            \n",
    "            #focus only on last time-step\n",
    "            logits = logits[:, -1, :] #(B, C)\n",
    "            \n",
    "            #apply softmax\n",
    "            tok_probs = F.softmax(logits, dim=-1)\n",
    "            \n",
    "            #sample from dist\n",
    "            idx_next = torch.multinomial(tok_probs, num_samples=1)\n",
    "            \n",
    "            #append new token\n",
    "            idx = torch.cat((idx, idx_next), dim=-1)\n",
    "        return idx\n",
    "        "
   ]
  },
  {
   "cell_type": "code",
   "execution_count": 22,
   "id": "3603a764",
   "metadata": {},
   "outputs": [
    {
     "name": "stdout",
     "output_type": "stream",
     "text": [
      "0.816833 M parameters\n",
      "EPOCH#  1  LOSS =  tensor(4.3207, grad_fn=<NllLossBackward0>)\n",
      "EPOCH#  25  LOSS =  tensor(2.8591, grad_fn=<NllLossBackward0>)\n",
      "EPOCH#  50  LOSS =  tensor(2.5604, grad_fn=<NllLossBackward0>)\n",
      "EPOCH#  75  LOSS =  tensor(2.4691, grad_fn=<NllLossBackward0>)\n",
      "EPOCH#  100  LOSS =  tensor(2.4618, grad_fn=<NllLossBackward0>)\n",
      "EPOCH#  125  LOSS =  tensor(2.4015, grad_fn=<NllLossBackward0>)\n",
      "EPOCH#  150  LOSS =  tensor(2.4008, grad_fn=<NllLossBackward0>)\n",
      "EPOCH#  175  LOSS =  tensor(2.3430, grad_fn=<NllLossBackward0>)\n",
      "EPOCH#  200  LOSS =  tensor(2.2302, grad_fn=<NllLossBackward0>)\n",
      "EPOCH#  225  LOSS =  tensor(2.2232, grad_fn=<NllLossBackward0>)\n",
      "EPOCH#  250  LOSS =  tensor(2.1974, grad_fn=<NllLossBackward0>)\n",
      "EPOCH#  275  LOSS =  tensor(2.1379, grad_fn=<NllLossBackward0>)\n",
      "EPOCH#  300  LOSS =  tensor(2.0645, grad_fn=<NllLossBackward0>)\n",
      "EPOCH#  325  LOSS =  tensor(2.0558, grad_fn=<NllLossBackward0>)\n",
      "EPOCH#  350  LOSS =  tensor(2.0455, grad_fn=<NllLossBackward0>)\n",
      "EPOCH#  375  LOSS =  tensor(1.9645, grad_fn=<NllLossBackward0>)\n",
      "EPOCH#  400  LOSS =  tensor(1.9742, grad_fn=<NllLossBackward0>)\n",
      "EPOCH#  425  LOSS =  tensor(1.9743, grad_fn=<NllLossBackward0>)\n",
      "EPOCH#  450  LOSS =  tensor(1.8980, grad_fn=<NllLossBackward0>)\n",
      "EPOCH#  475  LOSS =  tensor(1.9078, grad_fn=<NllLossBackward0>)\n",
      "EPOCH#  500  LOSS =  tensor(1.9228, grad_fn=<NllLossBackward0>)\n",
      "EPOCH#  525  LOSS =  tensor(1.8808, grad_fn=<NllLossBackward0>)\n",
      "EPOCH#  550  LOSS =  tensor(1.9110, grad_fn=<NllLossBackward0>)\n",
      "EPOCH#  575  LOSS =  tensor(1.8343, grad_fn=<NllLossBackward0>)\n",
      "EPOCH#  600  LOSS =  tensor(1.8225, grad_fn=<NllLossBackward0>)\n",
      "EPOCH#  625  LOSS =  tensor(1.8864, grad_fn=<NllLossBackward0>)\n",
      "EPOCH#  650  LOSS =  tensor(1.7746, grad_fn=<NllLossBackward0>)\n",
      "EPOCH#  675  LOSS =  tensor(1.7371, grad_fn=<NllLossBackward0>)\n",
      "EPOCH#  700  LOSS =  tensor(1.7292, grad_fn=<NllLossBackward0>)\n",
      "EPOCH#  725  LOSS =  tensor(1.7869, grad_fn=<NllLossBackward0>)\n",
      "EPOCH#  750  LOSS =  tensor(1.8153, grad_fn=<NllLossBackward0>)\n",
      "EPOCH#  775  LOSS =  tensor(1.7699, grad_fn=<NllLossBackward0>)\n",
      "EPOCH#  800  LOSS =  tensor(1.7340, grad_fn=<NllLossBackward0>)\n",
      "EPOCH#  825  LOSS =  tensor(1.7515, grad_fn=<NllLossBackward0>)\n",
      "EPOCH#  850  LOSS =  tensor(1.7069, grad_fn=<NllLossBackward0>)\n",
      "EPOCH#  875  LOSS =  tensor(1.7503, grad_fn=<NllLossBackward0>)\n",
      "EPOCH#  900  LOSS =  tensor(1.6613, grad_fn=<NllLossBackward0>)\n",
      "EPOCH#  925  LOSS =  tensor(1.6991, grad_fn=<NllLossBackward0>)\n",
      "EPOCH#  950  LOSS =  tensor(1.6989, grad_fn=<NllLossBackward0>)\n",
      "EPOCH#  975  LOSS =  tensor(1.6021, grad_fn=<NllLossBackward0>)\n",
      "EPOCH#  1000  LOSS =  tensor(1.6428, grad_fn=<NllLossBackward0>)\n",
      "EPOCH#  1025  LOSS =  tensor(1.5914, grad_fn=<NllLossBackward0>)\n",
      "EPOCH#  1050  LOSS =  tensor(1.7128, grad_fn=<NllLossBackward0>)\n",
      "EPOCH#  1075  LOSS =  tensor(1.6808, grad_fn=<NllLossBackward0>)\n",
      "EPOCH#  1100  LOSS =  tensor(1.6217, grad_fn=<NllLossBackward0>)\n",
      "EPOCH#  1125  LOSS =  tensor(1.6565, grad_fn=<NllLossBackward0>)\n",
      "EPOCH#  1150  LOSS =  tensor(1.6261, grad_fn=<NllLossBackward0>)\n",
      "EPOCH#  1175  LOSS =  tensor(1.6514, grad_fn=<NllLossBackward0>)\n",
      "EPOCH#  1200  LOSS =  tensor(1.5834, grad_fn=<NllLossBackward0>)\n",
      "EPOCH#  1225  LOSS =  tensor(1.6226, grad_fn=<NllLossBackward0>)\n",
      "EPOCH#  1250  LOSS =  tensor(1.5856, grad_fn=<NllLossBackward0>)\n",
      "EPOCH#  1275  LOSS =  tensor(1.6644, grad_fn=<NllLossBackward0>)\n",
      "EPOCH#  1300  LOSS =  tensor(1.6568, grad_fn=<NllLossBackward0>)\n",
      "EPOCH#  1325  LOSS =  tensor(1.6218, grad_fn=<NllLossBackward0>)\n",
      "EPOCH#  1350  LOSS =  tensor(1.5877, grad_fn=<NllLossBackward0>)\n",
      "EPOCH#  1375  LOSS =  tensor(1.6455, grad_fn=<NllLossBackward0>)\n",
      "EPOCH#  1400  LOSS =  tensor(1.5820, grad_fn=<NllLossBackward0>)\n",
      "EPOCH#  1425  LOSS =  tensor(1.5720, grad_fn=<NllLossBackward0>)\n",
      "EPOCH#  1450  LOSS =  tensor(1.6661, grad_fn=<NllLossBackward0>)\n",
      "EPOCH#  1475  LOSS =  tensor(1.6742, grad_fn=<NllLossBackward0>)\n",
      "EPOCH#  1500  LOSS =  tensor(1.5741, grad_fn=<NllLossBackward0>)\n",
      "EPOCH#  1525  LOSS =  tensor(1.5743, grad_fn=<NllLossBackward0>)\n",
      "EPOCH#  1550  LOSS =  tensor(1.5826, grad_fn=<NllLossBackward0>)\n",
      "EPOCH#  1575  LOSS =  tensor(1.5637, grad_fn=<NllLossBackward0>)\n",
      "EPOCH#  1600  LOSS =  tensor(1.5371, grad_fn=<NllLossBackward0>)\n",
      "EPOCH#  1625  LOSS =  tensor(1.6293, grad_fn=<NllLossBackward0>)\n",
      "EPOCH#  1650  LOSS =  tensor(1.6681, grad_fn=<NllLossBackward0>)\n",
      "EPOCH#  1675  LOSS =  tensor(1.6589, grad_fn=<NllLossBackward0>)\n",
      "EPOCH#  1700  LOSS =  tensor(1.5653, grad_fn=<NllLossBackward0>)\n",
      "EPOCH#  1725  LOSS =  tensor(1.5343, grad_fn=<NllLossBackward0>)\n",
      "EPOCH#  1750  LOSS =  tensor(1.5665, grad_fn=<NllLossBackward0>)\n",
      "EPOCH#  1775  LOSS =  tensor(1.5708, grad_fn=<NllLossBackward0>)\n",
      "EPOCH#  1800  LOSS =  tensor(1.5420, grad_fn=<NllLossBackward0>)\n",
      "EPOCH#  1825  LOSS =  tensor(1.5492, grad_fn=<NllLossBackward0>)\n",
      "EPOCH#  1850  LOSS =  tensor(1.5504, grad_fn=<NllLossBackward0>)\n",
      "EPOCH#  1875  LOSS =  tensor(1.5367, grad_fn=<NllLossBackward0>)\n",
      "EPOCH#  1900  LOSS =  tensor(1.4339, grad_fn=<NllLossBackward0>)\n",
      "EPOCH#  1925  LOSS =  tensor(1.5071, grad_fn=<NllLossBackward0>)\n",
      "EPOCH#  1950  LOSS =  tensor(1.4499, grad_fn=<NllLossBackward0>)\n",
      "EPOCH#  1975  LOSS =  tensor(1.5541, grad_fn=<NllLossBackward0>)\n",
      "EPOCH#  2000  LOSS =  tensor(1.5372, grad_fn=<NllLossBackward0>)\n"
     ]
    }
   ],
   "source": [
    "model = BigramLanguageModel()\n",
    "\n",
    "\n",
    "print(sum(p.numel() for p in model.parameters())/1e6, 'M parameters')\n",
    "\n",
    "optimizer = torch.optim.AdamW(model.parameters(), lr=LR)\n",
    "\n",
    "\n",
    "for epoch in range(EPOCHS):\n",
    "    x_batch, y_batch = get_batch()\n",
    "    \n",
    "    logits, loss = model.forward(x_batch, y_batch)\n",
    "    \n",
    "    if ((epoch + 1) % 25 == 0 or epoch == 0):\n",
    "        print(\"EPOCH# \", epoch + 1 ,\" LOSS = \", loss)\n",
    "    \n",
    "    # evaluate the loss\n",
    "    optimizer.zero_grad(set_to_none=True)\n",
    "    loss.backward()\n",
    "    optimizer.step()"
   ]
  },
  {
   "cell_type": "code",
   "execution_count": 23,
   "id": "71f4e6f4",
   "metadata": {},
   "outputs": [],
   "source": [
    "context = torch.zeros((1, 1), dtype=torch.long)\n",
    "\n",
    "generated_text = [token_to_char[int(t)] for t in model.generate(context, max_tokens=2000)[0]]"
   ]
  },
  {
   "cell_type": "code",
   "execution_count": 24,
   "id": "14ad9aca",
   "metadata": {},
   "outputs": [
    {
     "name": "stdout",
     "output_type": "stream",
     "text": [
      "the Kate, good succlud over\n",
      "Roman. The vamits about I lie.\n",
      "Vixf days lie prilot you. Pradce to rives\n",
      "Move I mad men. it to yet these itse on he was the veart genlave sife, is\n",
      "Too receed the do ours\n",
      "As some of my for thy helps, or find eyes ye\n",
      "That day and perfors him to ever no\n",
      "To spoke. Your grass your honour.\n",
      "\n",
      "MARCIUS:\n",
      "Nave I lord the poorce hand, whind rurand.\n",
      "She in being end the has trannamy to heaven\n",
      "go him so.\n",
      "\n",
      "SHENRDIEN:\n",
      "God chento his issents. Charius!\n",
      "\n",
      "PETHERD:\n",
      "Harged!\n",
      "\n",
      "CLADTER:\n",
      "Why stat as with thinkes:\n",
      "The heart he knows; thou have been as furge,\n",
      "That Momans lament the pince to marring of me the crown\n",
      "in moolt to my poortet. Thy roubles,\n",
      "As you witse a paking powital.\n",
      "Ah, and hopes life and of the pay priph:\n",
      "Fellows him a garden spaked and ill not weak aft\n",
      "For to somet that shouldst hem in and knows\n",
      "Most suppening of Nail, follow of thas\n",
      "thou thy tide the pilege up be arm\n",
      "ThE sklend yet, that and to me.\n",
      "\n",
      "ANGELO:\n",
      "No, Lord Wating years and now, I am sacrow\n",
      "\n",
      "PAULIS:\n",
      "But, you the pist att not of his marrings:\n",
      "The save they must, comes faction:\n",
      "But is came, pearfed to love can your eased.\n",
      "With which feeen, thou our Englating the wide up.\n",
      "\n",
      "CORIOLANUS:\n",
      "Take your jad's pooso blesI yields;\n",
      "I camp sifless a prigeve your\n",
      "Rome af your reporlanmollatan my sotes the wit\n",
      "It you take to me in give to wrong,\n",
      "Let entriaten on him.\n",
      "He mad! what rang so hopes aboout,\n",
      "Is that be through and this time and live,\n",
      "Peceive and thou in the madam out of thou but is gogs,\n",
      "We have profune partia.\n",
      "\n",
      "LEONTES:\n",
      "Soft love for the thou and nor stand speak\n",
      "his practedly tive say you not Duke or maked;\n",
      "Nife to swere depospe to so Enly male should right\n",
      "be treator. That supe for Duke of warr tisle\n",
      "And rowning inttepience eads his perish.\n",
      "Pant, Caful julice: By three nears reged.\n",
      "And thou sepeak with rone quest Frences.\n",
      "All I would die, can myself!\n",
      "\n",
      "CATESSBY:\n",
      "More farmy with save would before to years,\n",
      "And Citten: he in thou'rt. he brear you to the shere know off they heaven\n",
      "That we cits again;\n"
     ]
    }
   ],
   "source": [
    "print(\"\".join(generated_text[1:]))"
   ]
  },
  {
   "cell_type": "code",
   "execution_count": null,
   "id": "67a86455",
   "metadata": {},
   "outputs": [],
   "source": []
  }
 ],
 "metadata": {
  "kernelspec": {
   "display_name": "Python 3 (ipykernel)",
   "language": "python",
   "name": "python3"
  },
  "language_info": {
   "codemirror_mode": {
    "name": "ipython",
    "version": 3
   },
   "file_extension": ".py",
   "mimetype": "text/x-python",
   "name": "python",
   "nbconvert_exporter": "python",
   "pygments_lexer": "ipython3",
   "version": "3.10.12"
  }
 },
 "nbformat": 4,
 "nbformat_minor": 5
}
