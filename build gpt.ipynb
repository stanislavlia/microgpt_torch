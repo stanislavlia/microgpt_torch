{
 "cells": [
  {
   "cell_type": "code",
   "execution_count": 1,
   "id": "3f8daff1",
   "metadata": {},
   "outputs": [],
   "source": [
    "import numpy as np\n",
    "import torch\n",
    "import torch.nn as nn\n",
    "from torch.functional import F\n",
    "\n",
    "import os"
   ]
  },
  {
   "cell_type": "code",
   "execution_count": 2,
   "id": "8e54b05a",
   "metadata": {},
   "outputs": [],
   "source": [
    "with open(\"input.txt\", \"r\") as file:\n",
    "    text_corpus =   file.read().lower()\n",
    "    \n"
   ]
  },
  {
   "cell_type": "code",
   "execution_count": 3,
   "id": "7bc0a941",
   "metadata": {},
   "outputs": [
    {
     "name": "stdout",
     "output_type": "stream",
     "text": [
      "first citizen:\n",
      "before we proceed any further, hear me speak.\n",
      "\n",
      "all:\n",
      "speak, speak.\n",
      "\n",
      "first citizen:\n",
      "you are all resolved rather to die than to famish?\n",
      "\n",
      "all:\n",
      "resolved. resolved.\n",
      "\n",
      "first citizen:\n",
      "first, you know caius marcius is chief enemy to the people.\n",
      "\n",
      "all:\n",
      "we know't, we know't.\n",
      "\n",
      "first citizen:\n",
      "let us kill him, and we'll have corn at our own price.\n",
      "is't a verdict?\n",
      "\n",
      "all:\n",
      "no more talking on't; let it be done: away, away!\n",
      "\n",
      "second citizen:\n",
      "one word, good citizens.\n",
      "\n",
      "first citizen:\n",
      "we are accounted poor\n"
     ]
    }
   ],
   "source": [
    "print(text_corpus[:500])"
   ]
  },
  {
   "cell_type": "code",
   "execution_count": 4,
   "id": "7cb7adb9",
   "metadata": {},
   "outputs": [],
   "source": [
    "\n",
    "unique_chars = sorted(set(text_corpus))\n",
    "\n",
    "\n",
    "char_to_token = {unique_chars[i]:i for i in range(len(unique_chars))}\n",
    "\n",
    "token_to_char =  {i:unique_chars[i] for i in range(len(unique_chars))}\n"
   ]
  },
  {
   "cell_type": "code",
   "execution_count": 5,
   "id": "42845fda",
   "metadata": {},
   "outputs": [
    {
     "data": {
      "text/plain": [
       "{'\\n': 0,\n",
       " ' ': 1,\n",
       " '!': 2,\n",
       " '$': 3,\n",
       " '&': 4,\n",
       " \"'\": 5,\n",
       " ',': 6,\n",
       " '-': 7,\n",
       " '.': 8,\n",
       " '3': 9,\n",
       " ':': 10,\n",
       " ';': 11,\n",
       " '?': 12,\n",
       " 'a': 13,\n",
       " 'b': 14,\n",
       " 'c': 15,\n",
       " 'd': 16,\n",
       " 'e': 17,\n",
       " 'f': 18,\n",
       " 'g': 19,\n",
       " 'h': 20,\n",
       " 'i': 21,\n",
       " 'j': 22,\n",
       " 'k': 23,\n",
       " 'l': 24,\n",
       " 'm': 25,\n",
       " 'n': 26,\n",
       " 'o': 27,\n",
       " 'p': 28,\n",
       " 'q': 29,\n",
       " 'r': 30,\n",
       " 's': 31,\n",
       " 't': 32,\n",
       " 'u': 33,\n",
       " 'v': 34,\n",
       " 'w': 35,\n",
       " 'x': 36,\n",
       " 'y': 37,\n",
       " 'z': 38}"
      ]
     },
     "execution_count": 5,
     "metadata": {},
     "output_type": "execute_result"
    }
   ],
   "source": [
    "char_to_token"
   ]
  },
  {
   "cell_type": "markdown",
   "id": "cf667799",
   "metadata": {},
   "source": [
    "### Tokenize text\n"
   ]
  },
  {
   "cell_type": "code",
   "execution_count": 6,
   "id": "6aeb7f88",
   "metadata": {},
   "outputs": [],
   "source": [
    "tokenized_text_corpus = [char_to_token[c] for c in text_corpus]"
   ]
  },
  {
   "cell_type": "code",
   "execution_count": 143,
   "id": "6bba340f",
   "metadata": {},
   "outputs": [
    {
     "data": {
      "text/plain": [
       "1115394"
      ]
     },
     "execution_count": 143,
     "metadata": {},
     "output_type": "execute_result"
    }
   ],
   "source": [
    "len(tokenized_text_corpus)"
   ]
  },
  {
   "cell_type": "code",
   "execution_count": 11,
   "id": "5fc8eee3",
   "metadata": {},
   "outputs": [],
   "source": [
    "BLOCK_SIZE=128 #Context len\n",
    "BATCH_SIZE=16\n",
    "\n"
   ]
  },
  {
   "cell_type": "code",
   "execution_count": 12,
   "id": "1baedd44",
   "metadata": {},
   "outputs": [],
   "source": [
    "def get_batch():\n",
    "    starting_indeces = np.random.randint(0, len(tokenized_text_corpus) - BLOCK_SIZE - 1, BATCH_SIZE)\n",
    "\n",
    "    X_batch = [torch.tensor(tokenized_text_corpus[i : i + BLOCK_SIZE], ) for i in starting_indeces]\n",
    "    y_batch = [torch.tensor(tokenized_text_corpus[i + 1: i + BLOCK_SIZE + 1],) for i in starting_indeces]\n",
    "    \n",
    "    X_batch, y_batch = torch.stack(X_batch), torch.stack(y_batch)   \n",
    "    return (X_batch, y_batch)\n",
    "\n",
    "x, y = get_batch()\n"
   ]
  },
  {
   "cell_type": "code",
   "execution_count": 14,
   "id": "41cefed8",
   "metadata": {},
   "outputs": [
    {
     "data": {
      "text/plain": [
       "torch.Size([16, 128])"
      ]
     },
     "execution_count": 14,
     "metadata": {},
     "output_type": "execute_result"
    }
   ],
   "source": [
    "x.shape"
   ]
  },
  {
   "cell_type": "markdown",
   "id": "356325b4",
   "metadata": {},
   "source": [
    "### Self-Attention "
   ]
  },
  {
   "cell_type": "code",
   "execution_count": 146,
   "id": "96e85c9e",
   "metadata": {},
   "outputs": [],
   "source": [
    "B, T, C = 4, 8, 6#Batch, Time, COntext\n",
    "\n",
    "xbow = torch.randn((B, T, C))\n",
    "\n",
    "average_context_mask = torch.tril(torch.ones((T, T))) \n",
    "average_context_mask = average_context_mask / torch.sum(average_context_mask, axis=1, keepdim=True)"
   ]
  },
  {
   "cell_type": "code",
   "execution_count": 147,
   "id": "dc009c0a",
   "metadata": {},
   "outputs": [
    {
     "data": {
      "text/plain": [
       "tensor([[1.0000, 0.0000, 0.0000, 0.0000, 0.0000, 0.0000, 0.0000, 0.0000],\n",
       "        [0.5000, 0.5000, 0.0000, 0.0000, 0.0000, 0.0000, 0.0000, 0.0000],\n",
       "        [0.3333, 0.3333, 0.3333, 0.0000, 0.0000, 0.0000, 0.0000, 0.0000],\n",
       "        [0.2500, 0.2500, 0.2500, 0.2500, 0.0000, 0.0000, 0.0000, 0.0000],\n",
       "        [0.2000, 0.2000, 0.2000, 0.2000, 0.2000, 0.0000, 0.0000, 0.0000],\n",
       "        [0.1667, 0.1667, 0.1667, 0.1667, 0.1667, 0.1667, 0.0000, 0.0000],\n",
       "        [0.1429, 0.1429, 0.1429, 0.1429, 0.1429, 0.1429, 0.1429, 0.0000],\n",
       "        [0.1250, 0.1250, 0.1250, 0.1250, 0.1250, 0.1250, 0.1250, 0.1250]])"
      ]
     },
     "execution_count": 147,
     "metadata": {},
     "output_type": "execute_result"
    }
   ],
   "source": [
    "##version2\n",
    "\n",
    "average_context_mask"
   ]
  },
  {
   "cell_type": "code",
   "execution_count": 148,
   "id": "5957b56c",
   "metadata": {},
   "outputs": [
    {
     "name": "stdout",
     "output_type": "stream",
     "text": [
      "torch.Size([8, 8])  @  torch.Size([4, 8, 6])\n"
     ]
    },
    {
     "data": {
      "text/plain": [
       "tensor([[[ 1.0576,  1.1407, -0.4468, -0.8311, -0.8251,  1.4819],\n",
       "         [ 0.4253,  0.9326, -0.2250, -0.2587, -0.4464,  0.7988],\n",
       "         [ 0.7126,  0.5104, -0.3250, -0.6765, -0.4654, -0.0484],\n",
       "         [ 0.5150,  0.1689, -0.2499, -0.2823, -0.3035,  0.2565],\n",
       "         [ 0.5282,  0.4694, -0.2789, -0.3591, -0.0849,  0.1925],\n",
       "         [ 0.5214,  0.2179, -0.2767, -0.1682, -0.1827,  0.6431],\n",
       "         [ 0.3523,  0.5230, -0.3747,  0.0717, -0.0179,  0.5877],\n",
       "         [ 0.6608,  0.4665, -0.2276,  0.2110, -0.0401,  0.7891]],\n",
       "\n",
       "        [[-1.3847,  1.2253,  1.1085, -1.7889,  1.0886,  0.4635],\n",
       "         [-0.5235,  0.5816,  0.5388, -1.0386,  0.2094,  0.5534],\n",
       "         [-0.2588,  1.5450,  0.0241, -0.1274,  0.1546, -0.2446],\n",
       "         [-0.0845,  1.2615,  0.3053,  0.0259, -0.0995, -0.2703],\n",
       "         [ 0.0265,  0.8963,  0.0484,  0.1281, -0.0583, -0.5142],\n",
       "         [ 0.0268,  0.7341,  0.0705,  0.2035,  0.0471, -0.2255],\n",
       "         [-0.0369,  0.5839,  0.1176,  0.2581,  0.0080, -0.1748],\n",
       "         [ 0.0558,  0.5379,  0.0890, -0.0666,  0.1056, -0.2232]],\n",
       "\n",
       "        [[-0.4484, -0.0902,  0.5813, -0.9260,  0.1863, -2.7547],\n",
       "         [-0.6467, -0.0564, -0.0838, -0.3685,  0.2610, -1.0810],\n",
       "         [-0.5771,  0.0522, -0.0743, -0.4163,  0.3065, -0.5306],\n",
       "         [-0.3843, -0.5028,  0.1482, -0.2785,  0.0593, -0.7517],\n",
       "         [-0.4975, -0.5693,  0.1678, -0.5467,  0.1424, -0.6457],\n",
       "         [-0.6321, -0.5277,  0.3994, -0.6840,  0.1867, -0.7485],\n",
       "         [-0.6744, -0.3875,  0.2520, -0.7430,  0.1275, -0.7211],\n",
       "         [-0.6049, -0.1988,  0.1430, -0.7041,  0.3384, -0.6743]],\n",
       "\n",
       "        [[-0.2478, -1.1026,  0.6320,  0.0638,  0.5153, -0.0279],\n",
       "         [ 0.0626, -0.4215, -0.2323, -0.1967, -0.3123,  0.0660],\n",
       "         [-0.0142,  0.0484, -0.4056,  0.0324, -0.2119, -0.0949],\n",
       "         [ 0.2622,  0.2947, -0.4702,  0.1360,  0.0718, -0.2415],\n",
       "         [ 0.2542,  0.2384, -0.3994,  0.0031,  0.1816, -0.1659],\n",
       "         [ 0.1510,  0.4628, -0.2523, -0.2136,  0.0629, -0.1396],\n",
       "         [ 0.1430,  0.1651, -0.1515, -0.1589,  0.2563, -0.1213],\n",
       "         [-0.0450,  0.4216, -0.1670, -0.1911,  0.0094, -0.0704]]])"
      ]
     },
     "execution_count": 148,
     "metadata": {},
     "output_type": "execute_result"
    }
   ],
   "source": [
    "print(average_context_mask.shape,  \" @ \", xbow.shape)\n",
    "\n",
    "average_context_mask @ xbow # (T, T) @ (B, T, C) is casted as (B, T, T) @ (B, T, C) --> (B, T, C)\n"
   ]
  },
  {
   "cell_type": "code",
   "execution_count": 149,
   "id": "6e49d085",
   "metadata": {},
   "outputs": [],
   "source": [
    "##version 3\n",
    "\n",
    "average_context_mask = torch.zeros((T, T))\n",
    "average_context_mask = average_context_mask.masked_fill(torch.tril(torch.ones(T, T)) == 0, float(\"-inf\"))\n",
    "average_context_mask = F.softmax(average_context_mask, dim=1)"
   ]
  },
  {
   "cell_type": "markdown",
   "id": "567a8f63",
   "metadata": {},
   "source": [
    "### One head of Self-Attention"
   ]
  },
  {
   "cell_type": "code",
   "execution_count": 150,
   "id": "b4c2b023",
   "metadata": {},
   "outputs": [
    {
     "name": "stdout",
     "output_type": "stream",
     "text": [
      "torch.Size([4, 8, 16])\n"
     ]
    }
   ],
   "source": [
    "###KEY PART of self-attention\n",
    "\n",
    "B, T, C = 4, 8, 32 #Batch, Time, Channels (size of Embedding vec)\n",
    "x = torch.randn(B,T,C)\n",
    "\n",
    "#SINGLE HEAD self-attention\n",
    "HEAD_SIZE=16\n",
    "\n",
    "key = nn.Linear(C, HEAD_SIZE, bias=False)\n",
    "query = nn.Linear(C, HEAD_SIZE, bias=False)\n",
    "value = nn.Linear(C, HEAD_SIZE, bias=False)\n",
    "\n",
    "#way of thinking\n",
    "#X - is private info about each token\n",
    "\n",
    "# Key - I am token N and here's what I have \n",
    "# Query - I am token N and here's what I look for\n",
    "# Value - I am token N and  here's what I will communicate to you if you find me interesting\n",
    "\n",
    "k = key(x) # (B, T, H)\n",
    "q = query(x)\n",
    "\n",
    "\n",
    "#compute scores for each token wrt to other tokens\n",
    "#by dot product of query with keys of other tokens\n",
    "wei = q @ k.transpose(-2, -1) #(B, T, T)\n",
    "\n",
    "#masking out future\n",
    "\n",
    "tril = torch.tril(torch.ones(T, T))\n",
    "wei = wei.masked_fill(tril == 0, float(\"-inf\")) #forbide to talk to future-tokens (DECODER)\n",
    "wei = F.softmax(wei, dim=-1)\n",
    "\n",
    "\n",
    "v = value(x)\n",
    "\n",
    "out = wei @ v  #each token gathers appropriate values of other tokens \n",
    "\n",
    "\n",
    "## Now, previous tokens have different weights (attention)\n",
    "print(out.shape) #(BATCH, TIME, Head-size)\n"
   ]
  },
  {
   "cell_type": "code",
   "execution_count": 151,
   "id": "bf059e0a",
   "metadata": {},
   "outputs": [
    {
     "data": {
      "text/plain": [
       "tensor([[1.0000, 0.0000, 0.0000, 0.0000, 0.0000, 0.0000, 0.0000, 0.0000],\n",
       "        [0.8700, 0.1300, 0.0000, 0.0000, 0.0000, 0.0000, 0.0000, 0.0000],\n",
       "        [0.2200, 0.7700, 0.0100, 0.0000, 0.0000, 0.0000, 0.0000, 0.0000],\n",
       "        [0.7900, 0.0500, 0.0400, 0.1200, 0.0000, 0.0000, 0.0000, 0.0000],\n",
       "        [0.0700, 0.4900, 0.0700, 0.0100, 0.3700, 0.0000, 0.0000, 0.0000],\n",
       "        [0.0800, 0.5800, 0.0500, 0.0300, 0.1200, 0.1500, 0.0000, 0.0000],\n",
       "        [0.0800, 0.3300, 0.0900, 0.1500, 0.2400, 0.0800, 0.0300, 0.0000],\n",
       "        [0.0100, 0.6500, 0.0100, 0.0000, 0.2600, 0.0200, 0.0200, 0.0300]],\n",
       "       grad_fn=<RoundBackward1>)"
      ]
     },
     "execution_count": 151,
     "metadata": {},
     "output_type": "execute_result"
    }
   ],
   "source": [
    "#weighted attention\n",
    "\n",
    "torch.round(wei[0], decimals=2)"
   ]
  },
  {
   "cell_type": "markdown",
   "id": "54ad74db",
   "metadata": {},
   "source": [
    "Notes:\n",
    "- Attention is a **communication mechanism**. Can be seen as nodes in a directed graph looking at each other and aggregating information with a weighted sum from all nodes that point to them, with data-dependent weights.\n",
    "- There is no notion of space. Attention simply acts over a set of vectors. This is why we need to positionally encode tokens.\n",
    "- Each example across batch dimension is of course processed completely independently and never \"talk\" to each other\n",
    "- In an \"encoder\" attention block just delete the single line that does masking with `tril`, allowing all tokens to communicate. This block here is called a \"decoder\" attention block because it has triangular masking, and is usually used in autoregressive settings, like language modeling.\n",
    "- \"self-attention\" just means that the keys and values are produced from the same source as queries. In \"cross-attention\", the queries still get produced from x, but the keys and values come from some other, external source (e.g. an encoder module)\n",
    "- \"Scaled\" attention additional divides `wei` by 1/sqrt(head_size). This makes it so when input Q,K are unit variance, wei will be unit variance too and Softmax will stay diffuse and not saturate too much. Illustration below"
   ]
  },
  {
   "attachments": {
    "image.png": {
     "image/png": "[encoded data removed]"
    }
   },
   "cell_type": "markdown",
   "id": "fa62066b",
   "metadata": {},
   "source": [
    "### MultiHead Attention\n",
    "\n",
    "multihead attention is basically applying many self-attentions in parralles and concatenating results\n",
    "\n",
    "![image.png](attachment:image.png)"
   ]
  },
  {
   "cell_type": "markdown",
   "id": "c97228e8",
   "metadata": {},
   "source": [
    "### TODO\n",
    "\n",
    "1) We need to add simple feedforward NN on top of MultiHeadAttention Block\n",
    "2) Add residual connections\n",
    "3) Add Layer Norm"
   ]
  },
  {
   "cell_type": "markdown",
   "id": "58d73c18",
   "metadata": {},
   "source": [
    "### Implementing MultiHead attention"
   ]
  },
  {
   "cell_type": "code",
   "execution_count": 50,
   "id": "dbc4c9a5",
   "metadata": {},
   "outputs": [],
   "source": [
    "#=========\n",
    "#constants\n",
    "N_EMBED=128\n",
    "BATCH=16\n",
    "N_HEADS=8\n",
    "VOCAB_SIZE=len(unique_chars)\n",
    "BLOCK_SIZE=32 #Context length\n",
    "N_BLOCKS=8\n",
    "MAX_TOKENS=100\n",
    "LR=0.0005\n",
    "EPOCHS=5000\n",
    "\n",
    "#=======\n",
    "\n",
    "class Head(nn.Module):\n",
    "    def __init__(self, head_size):\n",
    "        super().__init__()\n",
    "        \n",
    "        self.head_size = head_size\n",
    "        \n",
    "        self.key_layer = nn.Linear(N_EMBED, head_size, bias=False)\n",
    "        self.query_layer = nn.Linear(N_EMBED, head_size, bias=False)\n",
    "        self.value_layer = nn.Linear(N_EMBED, head_size, bias=False)\n",
    "        \n",
    "    def forward(self, x):\n",
    "        \n",
    "        B, T, C = x.shape\n",
    "        \n",
    "        key = self.key_layer(x)\n",
    "        query = self.query_layer(x)\n",
    "        value = self.value_layer(x)\n",
    "        \n",
    "        #compute attention scores for each token wrt to other tokens\n",
    "        attention_weights = (query @ key.transpose(-2, -1)) * C ** -0.5\n",
    "        \n",
    "        #mask out future\n",
    "        tril = torch.tril(torch.ones(T, T))\n",
    "        attention_weights = attention_weights.masked_fill(tril == 0, float(\"-inf\"))\n",
    "        #apply softmax to transform to prob distribution\n",
    "        attention_weights = F.softmax(attention_weights, dim=-1)\n",
    "        \n",
    "        #gather values of interesting tokens and aggregate them for each token\n",
    "        \n",
    "        out = attention_weights @ value\n",
    "        \n",
    "        return out\n",
    "        "
   ]
  },
  {
   "cell_type": "code",
   "execution_count": 51,
   "id": "958e213d",
   "metadata": {},
   "outputs": [],
   "source": [
    "\n",
    "class MultiHeadAttention(nn.Module):\n",
    "    def __init__(self, n_heads, head_size):\n",
    "        super().__init__()\n",
    "        \n",
    "        self.heads = nn.ModuleList([Head(head_size) for _ in range(n_heads)])\n",
    "        self.projection = nn.Linear(N_EMBED, N_EMBED)\n",
    "        \n",
    "        \n",
    "    def forward(self, x):\n",
    "        \n",
    "        head_outs = [head(x) for head in self.heads]\n",
    "        \n",
    "        #concatenate outputs of heads\n",
    "        head_outs_concated = torch.cat(head_outs, dim=-1)\n",
    "        \n",
    "        out = self.projection(head_outs_concated)\n",
    "        \n",
    "        \n",
    "        return out\n",
    "    \n",
    "    \n",
    "class TransformerBlock(nn.Module): \n",
    "    def __init__(self, n_emb, n_heads):\n",
    "        super().__init__()\n",
    "\n",
    "        \n",
    "        self.multihead_attention = MultiHeadAttention(n_heads, n_emb // n_heads)\n",
    "        \n",
    "        \n",
    "        self.feedforward_nn = nn.Sequential(\n",
    "            nn.Linear(n_emb, 4 * n_emb),\n",
    "            nn.ReLU(),\n",
    "            nn.Linear(4 * n_emb, n_emb),\n",
    "        )\n",
    "        \n",
    "        self.layer_norm1  = nn.LayerNorm(n_emb)\n",
    "        self.layer_norm2 = nn.LayerNorm(n_emb)\n",
    "        \n",
    "    def forward(self, x): #output shape is same as input\n",
    "        \n",
    "        x = self.multihead_attention(x) + x #add residual connections\n",
    "        x = self.feedforward_nn(x) + x \n",
    "        \n",
    "        return x\n",
    "    "
   ]
  },
  {
   "cell_type": "code",
   "execution_count": 52,
   "id": "5abcf301",
   "metadata": {},
   "outputs": [],
   "source": [
    "class BigramLanguageModel(nn.Module):\n",
    "    def __init__(self):\n",
    "        super().__init__()\n",
    "        \n",
    "        self.token_embedding_table = nn.Embedding(VOCAB_SIZE, N_EMBED)\n",
    "        self.position_embedding_table = nn.Embedding(VOCAB_SIZE, N_EMBED)\n",
    "        \n",
    "        #init transformer blocks\n",
    "        self.blocks = nn.Sequential(*[TransformerBlock(N_EMBED, N_HEADS) for _ in range(N_BLOCKS)])\n",
    "        self.layer_norm = nn.LayerNorm(N_EMBED)\n",
    "        \n",
    "        self.final_linear = nn.Linear(N_EMBED, VOCAB_SIZE) #logits\n",
    "        \n",
    "        \n",
    "    def forward(self, idx, targets=None):\n",
    "        #idx - tensor of indices of tokens\n",
    "        \n",
    "        \n",
    "        B, T = idx.shape\n",
    "        \n",
    "        tok_emb = self.token_embedding_table(idx) #(B, T, N_EMB)\n",
    "        pos_emb = self.position_embedding_table(torch.arange(T)) #(T, N_EMB)\n",
    "        \n",
    "        #sum token and position embedding\n",
    "        x = pos_emb + tok_emb\n",
    "        \n",
    "        x = self.blocks(x) #(B, T, N_EMB)\n",
    "        x = self.layer_norm(x) #(B, T, N_EMB)\n",
    "        logits = self.final_linear(x) #(B, T, VOCAB_SIZE) - produces logits\n",
    "        \n",
    "        if targets is None:\n",
    "            loss = None\n",
    "        else:\n",
    "            B, T, C = logits.shape\n",
    "            \n",
    "            logits = logits.view(B*T, C)\n",
    "            \n",
    "            targets = targets.view(B*T,)\n",
    "            \n",
    "            loss = F.cross_entropy(logits, targets)\n",
    "        \n",
    "        \n",
    "        \n",
    "        return logits, loss\n",
    "        \n",
    "\n",
    "    def generate(self, idx, max_tokens=100):\n",
    "        \n",
    "        # idx is (B, T) array of indices in the current context\n",
    "        \n",
    "        for _ in range(max_tokens):\n",
    "            \n",
    "            #crop last context\n",
    "            idx_cond = idx[:, -BLOCK_SIZE:]\n",
    "            \n",
    "            #get predicitons\n",
    "            logits, loss = self(idx_cond)\n",
    "            \n",
    "            #focus only on last time-step\n",
    "            logits = logits[:, -1, :] #(B, C)\n",
    "            \n",
    "            #apply softmax\n",
    "            tok_probs = F.softmax(logits, dim=-1)\n",
    "            \n",
    "            #sample from dist\n",
    "            idx_next = torch.multinomial(tok_probs, num_samples=1)\n",
    "            \n",
    "            #append new token\n",
    "            idx = torch.cat((idx, idx_next), dim=-1)\n",
    "        return idx\n",
    "        "
   ]
  },
  {
   "cell_type": "code",
   "execution_count": 53,
   "id": "3603a764",
   "metadata": {},
   "outputs": [
    {
     "name": "stdout",
     "output_type": "stream",
     "text": [
      "1.598375 M parameters\n",
      "EPOCH#  1  LOSS =  tensor(3.8830, grad_fn=<NllLossBackward0>)\n",
      "EPOCH#  100  LOSS =  tensor(2.5995, grad_fn=<NllLossBackward0>)\n",
      "EPOCH#  200  LOSS =  tensor(2.2862, grad_fn=<NllLossBackward0>)\n",
      "EPOCH#  300  LOSS =  tensor(2.3033, grad_fn=<NllLossBackward0>)\n",
      "EPOCH#  400  LOSS =  tensor(2.1631, grad_fn=<NllLossBackward0>)\n",
      "EPOCH#  500  LOSS =  tensor(2.1651, grad_fn=<NllLossBackward0>)\n",
      "EPOCH#  600  LOSS =  tensor(1.9977, grad_fn=<NllLossBackward0>)\n",
      "EPOCH#  700  LOSS =  tensor(2.1604, grad_fn=<NllLossBackward0>)\n",
      "EPOCH#  800  LOSS =  tensor(1.9605, grad_fn=<NllLossBackward0>)\n",
      "EPOCH#  900  LOSS =  tensor(2.0599, grad_fn=<NllLossBackward0>)\n",
      "EPOCH#  1000  LOSS =  tensor(1.9561, grad_fn=<NllLossBackward0>)\n",
      "EPOCH#  1100  LOSS =  tensor(1.8959, grad_fn=<NllLossBackward0>)\n",
      "EPOCH#  1200  LOSS =  tensor(1.9002, grad_fn=<NllLossBackward0>)\n",
      "EPOCH#  1300  LOSS =  tensor(1.7810, grad_fn=<NllLossBackward0>)\n",
      "EPOCH#  1400  LOSS =  tensor(1.9219, grad_fn=<NllLossBackward0>)\n",
      "EPOCH#  1500  LOSS =  tensor(1.8668, grad_fn=<NllLossBackward0>)\n",
      "EPOCH#  1600  LOSS =  tensor(1.6938, grad_fn=<NllLossBackward0>)\n",
      "EPOCH#  1700  LOSS =  tensor(1.7934, grad_fn=<NllLossBackward0>)\n",
      "EPOCH#  1800  LOSS =  tensor(1.8417, grad_fn=<NllLossBackward0>)\n",
      "EPOCH#  1900  LOSS =  tensor(1.7321, grad_fn=<NllLossBackward0>)\n",
      "EPOCH#  2000  LOSS =  tensor(1.7241, grad_fn=<NllLossBackward0>)\n",
      "EPOCH#  2100  LOSS =  tensor(1.6054, grad_fn=<NllLossBackward0>)\n",
      "EPOCH#  2200  LOSS =  tensor(1.7392, grad_fn=<NllLossBackward0>)\n",
      "EPOCH#  2300  LOSS =  tensor(1.8038, grad_fn=<NllLossBackward0>)\n",
      "EPOCH#  2400  LOSS =  tensor(1.6844, grad_fn=<NllLossBackward0>)\n",
      "EPOCH#  2500  LOSS =  tensor(1.7843, grad_fn=<NllLossBackward0>)\n",
      "EPOCH#  2600  LOSS =  tensor(1.6750, grad_fn=<NllLossBackward0>)\n",
      "EPOCH#  2700  LOSS =  tensor(1.6381, grad_fn=<NllLossBackward0>)\n",
      "EPOCH#  2800  LOSS =  tensor(1.6430, grad_fn=<NllLossBackward0>)\n",
      "EPOCH#  2900  LOSS =  tensor(1.5766, grad_fn=<NllLossBackward0>)\n",
      "EPOCH#  3000  LOSS =  tensor(1.6361, grad_fn=<NllLossBackward0>)\n",
      "EPOCH#  3100  LOSS =  tensor(1.6195, grad_fn=<NllLossBackward0>)\n",
      "EPOCH#  3200  LOSS =  tensor(1.6100, grad_fn=<NllLossBackward0>)\n",
      "EPOCH#  3300  LOSS =  tensor(1.5190, grad_fn=<NllLossBackward0>)\n",
      "EPOCH#  3400  LOSS =  tensor(1.7314, grad_fn=<NllLossBackward0>)\n",
      "EPOCH#  3500  LOSS =  tensor(1.5701, grad_fn=<NllLossBackward0>)\n",
      "EPOCH#  3600  LOSS =  tensor(1.6394, grad_fn=<NllLossBackward0>)\n",
      "EPOCH#  3700  LOSS =  tensor(1.6170, grad_fn=<NllLossBackward0>)\n",
      "EPOCH#  3800  LOSS =  tensor(1.6947, grad_fn=<NllLossBackward0>)\n",
      "EPOCH#  3900  LOSS =  tensor(1.6284, grad_fn=<NllLossBackward0>)\n",
      "EPOCH#  4000  LOSS =  tensor(1.5500, grad_fn=<NllLossBackward0>)\n",
      "EPOCH#  4100  LOSS =  tensor(1.6380, grad_fn=<NllLossBackward0>)\n",
      "EPOCH#  4200  LOSS =  tensor(1.5219, grad_fn=<NllLossBackward0>)\n",
      "EPOCH#  4300  LOSS =  tensor(1.6132, grad_fn=<NllLossBackward0>)\n",
      "EPOCH#  4400  LOSS =  tensor(1.5361, grad_fn=<NllLossBackward0>)\n",
      "EPOCH#  4500  LOSS =  tensor(1.5245, grad_fn=<NllLossBackward0>)\n",
      "EPOCH#  4600  LOSS =  tensor(1.5881, grad_fn=<NllLossBackward0>)\n",
      "EPOCH#  4700  LOSS =  tensor(1.6390, grad_fn=<NllLossBackward0>)\n",
      "EPOCH#  4800  LOSS =  tensor(1.5218, grad_fn=<NllLossBackward0>)\n",
      "EPOCH#  4900  LOSS =  tensor(1.6015, grad_fn=<NllLossBackward0>)\n",
      "EPOCH#  5000  LOSS =  tensor(1.5098, grad_fn=<NllLossBackward0>)\n"
     ]
    }
   ],
   "source": [
    "model = BigramLanguageModel()\n",
    "\n",
    "\n",
    "print(sum(p.numel() for p in model.parameters())/1e6, 'M parameters')\n",
    "\n",
    "optimizer = torch.optim.AdamW(model.parameters(), lr=LR)\n",
    "\n",
    "\n",
    "for epoch in range(EPOCHS):\n",
    "    x_batch, y_batch = get_batch()\n",
    "    \n",
    "    logits, loss = model.forward(x_batch, y_batch)\n",
    "    \n",
    "    if ((epoch + 1) % 100 == 0 or epoch == 0):\n",
    "        print(\"EPOCH# \", epoch + 1 ,\" LOSS = \", loss)\n",
    "    \n",
    "    # evaluate the loss\n",
    "    optimizer.zero_grad(set_to_none=True)\n",
    "    loss.backward()\n",
    "    optimizer.step()"
   ]
  },
  {
   "cell_type": "code",
   "execution_count": 56,
   "id": "71f4e6f4",
   "metadata": {},
   "outputs": [],
   "source": [
    "context = torch.zeros((1, 1), dtype=torch.long)\n",
    "\n",
    "generated_text = [token_to_char[int(t)] for t in model.generate(context, max_tokens=2000)[0]]"
   ]
  },
  {
   "cell_type": "code",
   "execution_count": 57,
   "id": "14ad9aca",
   "metadata": {},
   "outputs": [
    {
     "name": "stdout",
     "output_type": "stream",
     "text": [
      "a wouldsuous dreadful in the instend\n",
      "yond the tagets, and noim for turn me;\n",
      "the'er veroffol! i not?\n",
      "heaven stay, let leak's tween qued.\n",
      "ere to news, i here the!\n",
      "\n",
      "king evering therefore; quarrish\n",
      "in soul rock thee-puning take upon ane to forso this befow\n",
      "as you to the good but three, 'greet in an so,\n",
      "i'll be think, to a vice on answing,\n",
      "thou mark that she heavind, silquame dosure?\n",
      "you hoursel from you thee.\n",
      "\n",
      "paring entent.\n",
      "\n",
      "penderon:\n",
      "sisfee room our prince: thou wrel to a brother; vere yours?\n",
      "nay then life: meane yorks home at mark under'd,\n",
      "and eaceiver to whilse.\n",
      "\n",
      "lucio:\n",
      "ougo look, have done thou towe ie truthoms\n",
      "do so offord?\n",
      "\n",
      "hension to be not i world you be.\n",
      "\n",
      "peter:\n",
      "goods tuom of my fight-b mine more king,\n",
      "and i\n",
      "am never neess; thoughs know i have honour plant,\n",
      "my brother is news with his sweaness,\n",
      "i'll nome in a chast sons we of almine.\n",
      "\n",
      "provost:\n",
      "i pear be opend it!\n",
      "please, from the\n",
      "bill.\n",
      "\n",
      "we gonzalance:\n",
      "and peace these none she son of me troubs and forth: kindwar!\n",
      "\n",
      "let must proving keepe det him.\n",
      "\n",
      "antong.\n",
      "\n",
      "first firm:\n",
      "then thousank'st the dare ovow: we is here with thee.\n",
      "\n",
      "penceo:\n",
      "i stand to death, but edward, spit him wrong, her hor to a would, provers-\n",
      "revengerloody that speakful dimst sons the kindoms.\n",
      "there for senate povoss me. foul?\n",
      "\n",
      "juliet:\n",
      "'wwell to foverive; when our voicent not be, when thou counjest off.\n",
      "be not all him tinks, to the quair\n",
      "treablo\n",
      "sist terrious in hire.\n",
      "\n",
      "sicinius:\n",
      "shool, bat dew against, noble bettile, vilous,\n",
      "tranion will creatle to deliver boof.\n",
      "\n",
      "freet:\n",
      "why i love: mound none we in rote your so:\n",
      "your i holds news done put one in ohim.\n",
      "\n",
      "norform:\n",
      "sheall ill?\n",
      "down, we ctize of merchanges\n",
      "'despice: stay this night,\n",
      "naturanges, either he no pleased to the word.\n",
      "\n",
      "perhen from are me: pherave life\n",
      "in of the mood\n",
      "on their\n",
      "of imstop, will tell noke cock and satian from thee?\n",
      "to he our goddelous to the fol.\n",
      "\n",
      "pompesssmens:\n",
      "thou wara her to burningde unglic down.\n",
      "\n",
      "third greeat:\n",
      "if fhee me true and creature othen burroting therefore here;\n",
      "and i ba\n"
     ]
    }
   ],
   "source": [
    "print(\"\".join(generated_text[1:]))"
   ]
  },
  {
   "cell_type": "code",
   "execution_count": null,
   "id": "1492d864",
   "metadata": {},
   "outputs": [],
   "source": [
    " "
   ]
  }
 ],
 "metadata": {
  "kernelspec": {
   "display_name": "Python 3 (ipykernel)",
   "language": "python",
   "name": "python3"
  },
  "language_info": {
   "codemirror_mode": {
    "name": "ipython",
    "version": 3
   },
   "file_extension": ".py",
   "mimetype": "text/x-python",
   "name": "python",
   "nbconvert_exporter": "python",
   "pygments_lexer": "ipython3",
   "version": "3.10.12"
  }
 },
 "nbformat": 4,
 "nbformat_minor": 5
}
